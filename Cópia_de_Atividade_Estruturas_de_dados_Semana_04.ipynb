{
  "nbformat": 4,
  "nbformat_minor": 0,
  "metadata": {
    "colab": {
      "provenance": [],
      "include_colab_link": true
    },
    "kernelspec": {
      "name": "python3",
      "display_name": "Python 3"
    },
    "language_info": {
      "name": "python"
    }
  },
  "cells": [
    {
      "cell_type": "markdown",
      "metadata": {
        "id": "view-in-github",
        "colab_type": "text"
      },
      "source": [
        "<a href=\"https://colab.research.google.com/github/emilymulligan/Atividade-Estruturas-de-dados---Semana-04/blob/main/C%C3%B3pia_de_Atividade_Estruturas_de_dados_Semana_04.ipynb\" target=\"_parent\"><img src=\"https://colab.research.google.com/assets/colab-badge.svg\" alt=\"Open In Colab\"/></a>"
      ]
    },
    {
      "cell_type": "markdown",
      "source": [
        "![Growdev](https://www.growdev.com.br/assets/images/logo_growdev.png)"
      ],
      "metadata": {
        "id": "v8pFWwviib2C"
      }
    },
    {
      "cell_type": "markdown",
      "source": [
        "![Formação Engenharia de Dados](https://d335luupugsy2.cloudfront.net/cms/files/524558/1707226566/$occu5m8t1op)"
      ],
      "metadata": {
        "id": "6Tkl4_HxifXZ"
      }
    },
    {
      "cell_type": "markdown",
      "source": [
        "Este material tem como objetivo incentivar a prática dos conteúdos estudados até o momento, e a pesquisa. Tenha em consideração que o exercício foi pensado para incentivar a prática dos conteúdos estudados até então, porém aprender a pesquisar faz parte do processo de aprendizagem.\n",
        "\n",
        "Fique tranquilo, faça os exercícios com calma, e boa prática!\n"
      ],
      "metadata": {
        "id": "ty7Bzyl1i9bN"
      }
    },
    {
      "cell_type": "markdown",
      "source": [
        "#Orientações:\n",
        "\n",
        " - Faça uma copia deste arquivo\n",
        " - Após concluir os exercicios, suba seu exercicio para o GitHub e compartilhe o link no **google** Classroom\n"
      ],
      "metadata": {
        "id": "DU5-yCQwjx3V"
      }
    },
    {
      "cell_type": "markdown",
      "source": [
        "#Exercícios"
      ],
      "metadata": {
        "id": "EzT810tnlmfE"
      }
    },
    {
      "cell_type": "markdown",
      "source": [
        "#Listas"
      ],
      "metadata": {
        "id": "rDqBAimhSq_C"
      }
    },
    {
      "cell_type": "markdown",
      "source": [
        "Para esse exercicio você tera alguns desafios, separei eles em partes, vamos lá?\n",
        "\n",
        "1 - Crie uma lista com 100 números inteiros.\n",
        "- Pode ser uma sequência, ou caso queira se desafiar faça de números aleatorios.\n",
        "- Os dados não devem ser inseridos manualmente, utilize de um laço de repetição para adicionar os elementos a Lista.\n"
      ],
      "metadata": {
        "id": "GoGkz2n-SudC"
      }
    },
    {
      "cell_type": "code",
      "source": [
        "lista = []\n",
        "\n",
        "for i in range(1, 101):\n",
        "  lista.append(i)\n",
        "\n",
        "print(lista)"
      ],
      "metadata": {
        "id": "lLYBJr0KSuJW",
        "colab": {
          "base_uri": "https://localhost:8080/"
        },
        "outputId": "9988a22c-4094-48b6-82da-f317fe91101c"
      },
      "execution_count": null,
      "outputs": [
        {
          "output_type": "stream",
          "name": "stdout",
          "text": [
            "[1, 2, 3, 4, 5, 6, 7, 8, 9, 10, 11, 12, 13, 14, 15, 16, 17, 18, 19, 20, 21, 22, 23, 24, 25, 26, 27, 28, 29, 30, 31, 32, 33, 34, 35, 36, 37, 38, 39, 40, 41, 42, 43, 44, 45, 46, 47, 48, 49, 50, 51, 52, 53, 54, 55, 56, 57, 58, 59, 60, 61, 62, 63, 64, 65, 66, 67, 68, 69, 70, 71, 72, 73, 74, 75, 76, 77, 78, 79, 80, 81, 82, 83, 84, 85, 86, 87, 88, 89, 90, 91, 92, 93, 94, 95, 96, 97, 98, 99, 100]\n"
          ]
        }
      ]
    },
    {
      "cell_type": "markdown",
      "source": [
        "2 - Calcule e exiba a soma de todos os números da lista."
      ],
      "metadata": {
        "id": "LQ0SVqxyVTD5"
      }
    },
    {
      "cell_type": "code",
      "source": [
        "print(sum(lista))"
      ],
      "metadata": {
        "id": "6HP8yU1bVS0F",
        "colab": {
          "base_uri": "https://localhost:8080/"
        },
        "outputId": "3106bcad-3d3d-4d28-c4ea-ea021a59196c"
      },
      "execution_count": null,
      "outputs": [
        {
          "output_type": "stream",
          "name": "stdout",
          "text": [
            "5050\n"
          ]
        }
      ]
    },
    {
      "cell_type": "markdown",
      "source": [
        "3 - Exiba o maior e o menor número da lista."
      ],
      "metadata": {
        "id": "HYQGLklTTPMx"
      }
    },
    {
      "cell_type": "code",
      "source": [
        "print(max(lista))\n",
        "print(min(lista))"
      ],
      "metadata": {
        "id": "q_UZx7EETT6S",
        "colab": {
          "base_uri": "https://localhost:8080/"
        },
        "outputId": "282674d9-f972-4297-b889-e7e16e1ffa5f"
      },
      "execution_count": null,
      "outputs": [
        {
          "output_type": "stream",
          "name": "stdout",
          "text": [
            "100\n",
            "1\n"
          ]
        }
      ]
    },
    {
      "cell_type": "markdown",
      "source": [
        "4 - Pesquise se o número 77 esta presente na lista e exiba:\n",
        "- Quantas vezes esse número aparece na lista\n",
        "- Se aparece em qual ou quais posições(Indice)."
      ],
      "metadata": {
        "id": "1iU6ZtRhVN9i"
      }
    },
    {
      "cell_type": "code",
      "source": [
        "lista = []\n",
        "\n",
        "for i in range(1, 101):\n",
        "  lista.append(i)\n",
        "\n",
        "print(lista.count(77))\n",
        "print(lista.index(77))\n"
      ],
      "metadata": {
        "id": "OGVH4AoGWU2R",
        "colab": {
          "base_uri": "https://localhost:8080/"
        },
        "outputId": "ab4af5ef-cf9c-4390-e369-5fb0f8e587a9"
      },
      "execution_count": null,
      "outputs": [
        {
          "output_type": "stream",
          "name": "stdout",
          "text": [
            "1\n",
            "76\n"
          ]
        }
      ]
    },
    {
      "cell_type": "markdown",
      "source": [
        "5 - Ordene a lista de forma descendente e exiba."
      ],
      "metadata": {
        "id": "jrwycUMvWVSu"
      }
    },
    {
      "cell_type": "code",
      "source": [
        "lista = []\n",
        "\n",
        "for i in range(1, 101):\n",
        "  lista.append(i)\n",
        "\n",
        "lista.sort(reverse = True)\n",
        "\n",
        "print(lista)"
      ],
      "metadata": {
        "id": "RvRpLp87e5CB",
        "colab": {
          "base_uri": "https://localhost:8080/"
        },
        "outputId": "8592e7f7-e101-4e6f-b1c7-fa93ec15894b"
      },
      "execution_count": null,
      "outputs": [
        {
          "output_type": "stream",
          "name": "stdout",
          "text": [
            "[100, 99, 98, 97, 96, 95, 94, 93, 92, 91, 90, 89, 88, 87, 86, 85, 84, 83, 82, 81, 80, 79, 78, 77, 76, 75, 74, 73, 72, 71, 70, 69, 68, 67, 66, 65, 64, 63, 62, 61, 60, 59, 58, 57, 56, 55, 54, 53, 52, 51, 50, 49, 48, 47, 46, 45, 44, 43, 42, 41, 40, 39, 38, 37, 36, 35, 34, 33, 32, 31, 30, 29, 28, 27, 26, 25, 24, 23, 22, 21, 20, 19, 18, 17, 16, 15, 14, 13, 12, 11, 10, 9, 8, 7, 6, 5, 4, 3, 2, 1]\n"
          ]
        }
      ]
    },
    {
      "cell_type": "markdown",
      "source": [
        "## Tuplas:"
      ],
      "metadata": {
        "id": "Be68CsC2OftE"
      }
    },
    {
      "cell_type": "markdown",
      "source": [
        "Crie uma tupla com os dias da semana e peça para o usuário digitar um número de 1 a 7. Exiba o dia correspondente."
      ],
      "metadata": {
        "id": "SQzRrAmq1SnR"
      }
    },
    {
      "cell_type": "code",
      "source": [
        "dias_semanas = ('Segunda-Feira', 'Terça-Feira' , 'Quarta-Feira' , 'Quinta-Feira' , 'Sexta-Feira' , 'Sábado' , 'Domingo')\n",
        "\n",
        "dia = int(input('Digite um número de 1 a 7, para escolher um dia da semana:'))\n",
        "print(dias_semanas[dia - 1])\n"
      ],
      "metadata": {
        "id": "7BqDEfeq1TZE",
        "colab": {
          "base_uri": "https://localhost:8080/"
        },
        "outputId": "b593172d-ac93-4580-f816-838a8ed553d1"
      },
      "execution_count": null,
      "outputs": [
        {
          "output_type": "stream",
          "name": "stdout",
          "text": [
            "Digite um número de 1 a 7, para escolher um dia da semana:1\n",
            "Segunda-Feira\n"
          ]
        }
      ]
    },
    {
      "cell_type": "markdown",
      "source": [
        "Crie duas tuplas com números inteiros e crie uma terceira tupla com a concatenação das duas."
      ],
      "metadata": {
        "id": "J9LW9fru7hv6"
      }
    },
    {
      "cell_type": "code",
      "source": [
        "tupla1 = (1, 2, 3, 4, 5)\n",
        "\n",
        "tupla2 =(6, 7, 8, 9, 10)\n",
        "\n",
        "tupla3 = tupla1 + tupla2\n",
        "\n",
        "print(tupla3)"
      ],
      "metadata": {
        "id": "J2pBsS-f7idJ",
        "colab": {
          "base_uri": "https://localhost:8080/"
        },
        "outputId": "f488b1ff-ce66-4273-f35f-9655759850bf"
      },
      "execution_count": null,
      "outputs": [
        {
          "output_type": "stream",
          "name": "stdout",
          "text": [
            "(1, 2, 3, 4, 5, 6, 7, 8, 9, 10)\n"
          ]
        }
      ]
    },
    {
      "cell_type": "markdown",
      "source": [
        " Crie uma tupla com alguns elementos e remova um elemento específico."
      ],
      "metadata": {
        "id": "ytDz_SXB7o-8"
      }
    },
    {
      "cell_type": "code",
      "source": [
        "tupla = (0, 1, 2, 3, 4, 5, 6, 7, 8, 9, 10)\n",
        "\n",
        "lista=list(tupla)\n",
        "\n",
        "lista.remove(5)\n",
        "\n",
        "tupla = tuple(lista)\n",
        "\n",
        "print(tupla)\n"
      ],
      "metadata": {
        "id": "QvIAx6HP7pbh",
        "colab": {
          "base_uri": "https://localhost:8080/"
        },
        "outputId": "6d865d69-1913-4075-a224-9ccbbd19a339"
      },
      "execution_count": null,
      "outputs": [
        {
          "output_type": "stream",
          "name": "stdout",
          "text": [
            "(0, 1, 2, 3, 4, 6, 7, 8, 9, 10)\n"
          ]
        }
      ]
    },
    {
      "cell_type": "markdown",
      "source": [
        "#Sets"
      ],
      "metadata": {
        "id": "v_JM0Has1pPL"
      }
    },
    {
      "cell_type": "markdown",
      "source": [
        "Crie dois sets com cores diferentes e exiba na tela a união dos dois sets."
      ],
      "metadata": {
        "id": "Urrv-Y291roJ"
      }
    },
    {
      "cell_type": "code",
      "source": [
        "cores1 = {'azul', 'amerelo', 'vermelho' }\n",
        "cores2 = {'laraja', 'verde', 'roxo'}\n",
        "\n",
        "cores = print(cores1.union(cores2))"
      ],
      "metadata": {
        "id": "FM4S-PEa1zSW",
        "colab": {
          "base_uri": "https://localhost:8080/"
        },
        "outputId": "0f58a225-63df-4c0a-8b4f-1c85aa880380"
      },
      "execution_count": null,
      "outputs": [
        {
          "output_type": "stream",
          "name": "stdout",
          "text": [
            "{'verde', 'amerelo', 'laraja', 'azul', 'roxo', 'vermelho'}\n"
          ]
        }
      ]
    },
    {
      "cell_type": "markdown",
      "source": [
        "Crie uma lista com alguns números repetidos. Converta essa lista em um set para remover as duplicatas e exiba o resultado."
      ],
      "metadata": {
        "id": "0q0tG4eG1zkL"
      }
    },
    {
      "cell_type": "code",
      "source": [
        "lista = [1, 2, 2, 3, 4, 4, 5, 6, 7, 8, 9, 10]\n",
        "\n",
        "print(set(lista))"
      ],
      "metadata": {
        "id": "j4okoTWR2I_R",
        "colab": {
          "base_uri": "https://localhost:8080/"
        },
        "outputId": "860d5ade-fb7a-4cae-c78e-edf856ab84b6"
      },
      "execution_count": null,
      "outputs": [
        {
          "output_type": "stream",
          "name": "stdout",
          "text": [
            "{1, 2, 3, 4, 5, 6, 7, 8, 9, 10}\n"
          ]
        }
      ]
    },
    {
      "cell_type": "markdown",
      "source": [
        "#Dicionários:"
      ],
      "metadata": {
        "id": "4MCBgr-k1fvU"
      }
    },
    {
      "cell_type": "markdown",
      "source": [
        " Crie um dicionário com os nomes de algumas frutas e suas respectivas cores. Exiba na tela somente as frutas que são vermelhas."
      ],
      "metadata": {
        "id": "0A-DeyIMPh4g"
      }
    },
    {
      "cell_type": "code",
      "source": [
        "frutas = {}\n",
        "frutas = {'maçã' : 'vermelho', 'banana' : 'amarelo' , 'pera' : 'verde' , 'morango' : 'vermelho'}\n",
        "\n",
        "for key, value in frutas.items():\n",
        "  if value == 'vermelho':\n",
        "    print(key)"
      ],
      "metadata": {
        "id": "7jlD2DV4Pjom",
        "colab": {
          "base_uri": "https://localhost:8080/"
        },
        "outputId": "43e9097a-9500-459e-ae5b-63782c59d406"
      },
      "execution_count": null,
      "outputs": [
        {
          "output_type": "stream",
          "name": "stdout",
          "text": [
            "maçã\n",
            "morango\n"
          ]
        }
      ]
    },
    {
      "cell_type": "markdown",
      "source": [
        "Crie um dicionário com o nome e a idade de três pessoas. Busque por  um nome e exiba a idade correspondente."
      ],
      "metadata": {
        "id": "q-XV14A-PmSa"
      }
    },
    {
      "cell_type": "code",
      "source": [
        "pessoas = {'Julia' : 20,\n",
        "            'Carol'  : 25 ,\n",
        "            'João'  : 32\n",
        "           }\n",
        "\n",
        "nomes = input('Digite um nome:')\n",
        "\n",
        "if nomes in pessoas:\n",
        "  print('A idade de' , nomes , 'é', pessoas[nomes] )\n",
        "else:\n",
        "  print('Nome não encontrado.')"
      ],
      "metadata": {
        "id": "8rPH-lzG2gvh",
        "colab": {
          "base_uri": "https://localhost:8080/"
        },
        "outputId": "2f202bbf-6ec7-4e79-9f9b-47b6991b86b2"
      },
      "execution_count": null,
      "outputs": [
        {
          "output_type": "stream",
          "name": "stdout",
          "text": [
            "Digite um nome:Julia\n",
            "A idade de Julia é 20\n"
          ]
        }
      ]
    },
    {
      "cell_type": "markdown",
      "source": [
        "Crie um dicionário com os nomes e idades de algumas pessoas. Peça para o usuário digitar um nome e sua nova idade, e atualize o dicionário com essa informação."
      ],
      "metadata": {
        "id": "yEn6q_MP5SdW"
      }
    },
    {
      "cell_type": "code",
      "source": [
        "nomes = {'Julia' : 20,\n",
        "            'Carol'  : 25 ,\n",
        "            'João'  : 32\n",
        "           }\n",
        "nome = input('Digite seu nome:')\n",
        "idade = int(input('Digite sua idade:'))\n",
        "\n",
        "nomes[nome]= idade\n",
        "\n",
        "print(nomes)\n"
      ],
      "metadata": {
        "id": "H-RHnfMm5TcR",
        "colab": {
          "base_uri": "https://localhost:8080/"
        },
        "outputId": "572086e8-3406-4c5c-c548-e9d9ccac10e8"
      },
      "execution_count": null,
      "outputs": [
        {
          "output_type": "stream",
          "name": "stdout",
          "text": [
            "Digite seu nome:Julia\n",
            "Digite sua idade:21\n",
            "{'Julia': 21, 'Carol': 25, 'João': 32}\n"
          ]
        }
      ]
    },
    {
      "cell_type": "markdown",
      "source": [
        "Desafio Dicionários:\n",
        "\n",
        "Busque o código desenvolvido para o exercicio abaixo e altere o algoritmo para:\n",
        "\n",
        " - Salvar o resultado da eleição em um dícionário.\n",
        "\n",
        "\n",
        "Exemplo de saida do dicionario: {\"Candidato 1\": 2, \"Candidato 2\": 2, \"Voto Nulo\": 0, \"Voto Branco\": 1}\n",
        "\n",
        "\n",
        "Este exercicio foi realizado na lista da semana passada, exercicio de número 4:"
      ],
      "metadata": {
        "id": "Jeelh1Xw2hab"
      }
    },
    {
      "cell_type": "markdown",
      "source": [
        "\n",
        "\"Em uma eleição presidencial existem dois candidatos. Os votos são informados através de códigos. Os dados utilizados para a contagem dos votos obedecem à seguinte codificação:\n",
        "\n",
        "1,2 = voto para os respectivos candidatos\n",
        "\n",
        "3 = voto nulo\n",
        "\n",
        "4 = voto em branco;\n",
        "\n",
        "Elabore um programa que leia o código de votação de 5 eleitores. Calcule e escreva: total de votos para cada candidato total de votos nulos total de votos em branco\""
      ],
      "metadata": {
        "id": "cDnoQXk83e5B"
      }
    },
    {
      "cell_type": "code",
      "source": [
        "resultado_eleicao = {\n",
        "    \"Candidato 1\": 0,\n",
        "    \"Candidato 2\": 0,\n",
        "    \"Voto Nulo\": 0,\n",
        "    \"Voto Branco\": 0\n",
        "}\n",
        "\n",
        "for i in range(5):\n",
        "    voto = int(input('Digite 1 para votar no Candidato 1, 2 para votar no Candidato 2, 3 para voto nulo, 4 para voto em branco: '))\n",
        "\n",
        "    if voto == 1:\n",
        "        resultado_eleicao[\"Candidato 1\"] += 1\n",
        "    elif voto == 2:\n",
        "        resultado_eleicao[\"Candidato 2\"] += 1\n",
        "    elif voto == 3:\n",
        "        resultado_eleicao[\"Voto Nulo\"] += 1\n",
        "    elif voto == 4:\n",
        "        resultado_eleicao[\"Voto Branco\"] += 1\n",
        "\n",
        "print(\"Resultado da eleição:\", resultado_eleicao)"
      ],
      "metadata": {
        "id": "CRlV5NE82kpE",
        "colab": {
          "base_uri": "https://localhost:8080/"
        },
        "outputId": "4f200ef8-98a4-4392-ba24-64b0e0cbe36e"
      },
      "execution_count": null,
      "outputs": [
        {
          "output_type": "stream",
          "name": "stdout",
          "text": [
            "Digite 1 para votar no Candidato 1, 2 para votar no Candidato 2, 3 para voto nulo, 4 para voto em branco: 1\n",
            "Digite 1 para votar no Candidato 1, 2 para votar no Candidato 2, 3 para voto nulo, 4 para voto em branco: 2\n",
            "Digite 1 para votar no Candidato 1, 2 para votar no Candidato 2, 3 para voto nulo, 4 para voto em branco: 3\n",
            "Digite 1 para votar no Candidato 1, 2 para votar no Candidato 2, 3 para voto nulo, 4 para voto em branco: 4\n",
            "Digite 1 para votar no Candidato 1, 2 para votar no Candidato 2, 3 para voto nulo, 4 para voto em branco: 1\n",
            "Resultado da eleição: {'Candidato 1': 2, 'Candidato 2': 1, 'Voto Nulo': 1, 'Voto Branco': 1}\n"
          ]
        }
      ]
    },
    {
      "cell_type": "markdown",
      "source": [
        "#Listas por Compreensão:"
      ],
      "metadata": {
        "id": "ffEKF4Kx5eQu"
      }
    },
    {
      "cell_type": "markdown",
      "source": [
        "Crie uma lista com os números Impares de 1 a 20 utilizando listas por compreensão."
      ],
      "metadata": {
        "id": "IrQvRhQM5oj6"
      }
    },
    {
      "cell_type": "code",
      "source": [
        "\n",
        "lista = [i for i in range(1, 21) if i % 2 != 0]\n",
        "\n",
        "print(lista)"
      ],
      "metadata": {
        "id": "lqgX2B6x5fLc",
        "colab": {
          "base_uri": "https://localhost:8080/"
        },
        "outputId": "f1a88448-d7b6-473f-8172-bc703302b534"
      },
      "execution_count": null,
      "outputs": [
        {
          "output_type": "stream",
          "name": "stdout",
          "text": [
            "[1, 3, 5, 7, 9, 11, 13, 15, 17, 19]\n"
          ]
        }
      ]
    },
    {
      "cell_type": "markdown",
      "source": [
        "Crie uma lista com as letras da frase \"Sou estudante de dados\", utilizando listas por compreensão."
      ],
      "metadata": {
        "id": "R2DKj08Z5tqJ"
      }
    },
    {
      "cell_type": "code",
      "source": [
        "\n",
        "frase = 'Sou estudante de dados'\n",
        "\n",
        "lista = [i for i in frase]\n",
        "\n",
        "print(lista)"
      ],
      "metadata": {
        "colab": {
          "base_uri": "https://localhost:8080/"
        },
        "id": "zYBzl-2_GER2",
        "outputId": "0e312acd-12af-480e-8f04-5a21556f5da7"
      },
      "execution_count": null,
      "outputs": [
        {
          "output_type": "stream",
          "name": "stdout",
          "text": [
            "['S', 'o', 'u', ' ', 'e', 's', 't', 'u', 'd', 'a', 'n', 't', 'e', ' ', 'd', 'e', ' ', 'd', 'a', 'd', 'o', 's']\n"
          ]
        }
      ]
    }
  ]
}